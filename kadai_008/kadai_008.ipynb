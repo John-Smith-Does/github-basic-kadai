{
  "nbformat": 4,
  "nbformat_minor": 0,
  "metadata": {
    "colab": {
      "provenance": []
    },
    "kernelspec": {
      "name": "python3",
      "display_name": "Python 3"
    },
    "language_info": {
      "name": "python"
    }
  },
  "cells": [
    {
      "cell_type": "code",
      "execution_count": 58,
      "metadata": {
        "colab": {
          "base_uri": "https://localhost:8080/"
        },
        "id": "odvVF0xm_WkX",
        "outputId": "20d29698-1441-431c-c7d9-10d162e8b900"
      },
      "outputs": [
        {
          "output_type": "stream",
          "name": "stdout",
          "text": [
            "FizzBuzz\n"
          ]
        }
      ],
      "source": [
        "\"\"\"\n",
        " 条件分岐のif文で処理を切り替える\n",
        " 本課題の目標は、Pythonで条件分岐のプログラムが書けるようになること\n",
        "\n",
        " 課題の内容\n",
        " if文を用いて、以下の条件分岐をするコードを記述する\n",
        " 値はprint関数で出力するように\n",
        "\n",
        " ・変数varが、3の倍数の場合は「Fizz」を出力\n",
        " ・変数varが、5の倍数の場合は「Buzz」を出力\n",
        " ・変数varが、3の倍数と5の倍数の両方に該当する場合は「FizzBuzz」を出力\n",
        " ・上記のどの場合にも該当しない場合は、変数varの値を出力\n",
        "\n",
        " ただし、変数varは正の整数とする\n",
        " \"\"\"\n",
        "# ランダムな整数を利用するために、randomモジュールをインポート\n",
        "import random\n",
        "\n",
        "# 変数varに1～100までのランダムな整数を代入する\n",
        "# 3の倍数、5の倍数、3と5の公倍数、その他が代入されている\n",
        "var =random.randint(1,100)\n",
        "\n",
        "\"\"\"\n",
        " 変数varが、3の倍数の場合なら「Fizz」、\n",
        " 5の倍数の場合なら「Buzz」、\n",
        " 3の倍数と5の倍数の両方に該当する場合は「FizzBuzz」、\n",
        " 上記のどの場合にも該当しない場合は、変数varに値を出力する\n",
        " \"\"\"\n",
        "\n",
        "\"\"\"\n",
        " 変数varが、3の倍数と5の倍数の両方に該当する場合は「FizzBuzz」を出力\n",
        " 3の倍数から記述した所、公倍数が出力されなかったので修正\n",
        " \"\"\"\n",
        "if var % 3 == 0 and var % 5 == 0:\n",
        "    print(\"FizzBuzz\")\n",
        "\n",
        "\n",
        "# 3の倍数の場合「Fizz」を出力 % 3 をすることで3の倍数か判断できる\n",
        "elif var % 3 == 0:\n",
        "    print(\"Fizz\")\n",
        "\n",
        "\n",
        "# 5の倍数の場合「Fizz」を出力　% 5 をすることで5の倍数か判断できる\n",
        "elif var % 5 == 0:\n",
        "    print(\"Buzz\")\n",
        "\n",
        "\n",
        "# 全ての条件に当てはまらない場合、値をランダムで出力\n",
        "else:\n",
        "    print(var)\n",
        "\n"
      ]
    }
  ]
}