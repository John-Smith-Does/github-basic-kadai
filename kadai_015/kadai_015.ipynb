{
  "nbformat": 4,
  "nbformat_minor": 0,
  "metadata": {
    "colab": {
      "provenance": []
    },
    "kernelspec": {
      "name": "python3",
      "display_name": "Python 3"
    },
    "language_info": {
      "name": "python"
    }
  },
  "cells": [
    {
      "cell_type": "code",
      "execution_count": 16,
      "metadata": {
        "colab": {
          "base_uri": "https://localhost:8080/"
        },
        "id": "6565tjESbS-i",
        "outputId": "e376c53d-74c0-426e-8b76-b7d948925f5e"
      },
      "outputs": [
        {
          "output_type": "stream",
          "name": "stdout",
          "text": [
            "侍太郎 20\n"
          ]
        }
      ],
      "source": [
        "\"\"\"\n",
        " Humanクラスを定義し、名前と年齢を出力するプログラムを作る\n",
        "\n",
        " 本課題の目標は以下のとおり\n",
        " Pythonでクラスを使ったプログラムが書けるようになること。\n",
        " 属性とメソッドについて理解すること。\n",
        "\n",
        " 課題の内容\n",
        " 名前(name)と年齢(age)の属性を持つHumanクラスを作成してください。\n",
        " nameとageを標準出力(print)するメソッド(printinfo)を追加してください。\n",
        "\n",
        " Humanクラスのインスタンスは、変数に代入してプログラム内で使用してください。\n",
        " \"\"\"\n",
        "\n",
        "# nameとageの属性を持つHumanクラスを作成する\n",
        "class Human: # クラス名は慣習的に先頭を大文字にする\n",
        "\n",
        "\n",
        "    # コンストラクタを作成\n",
        "    def __init__(self, name, age):\n",
        "      self.name = name # 属性に値をセット\n",
        "      self.age = age\n",
        "\n",
        "    # メソッドを作成\n",
        "    def printinfo(self):\n",
        "      print(f\"{self.name} {self.age}\")\n",
        "\n",
        "# Humanクラスのインスタンスは変数に代入する\n",
        "printinfo = Human(\"侍太郎\", 20)\n",
        "\n",
        "# メソッドを呼び出す\n",
        "printinfo.printinfo()\n",
        "\n"
      ]
    }
  ]
}