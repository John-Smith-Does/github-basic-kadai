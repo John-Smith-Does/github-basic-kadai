{
  "nbformat": 4,
  "nbformat_minor": 0,
  "metadata": {
    "colab": {
      "provenance": []
    },
    "kernelspec": {
      "name": "python3",
      "display_name": "Python 3"
    },
    "language_info": {
      "name": "python"
    }
  },
  "cells": [
    {
      "cell_type": "code",
      "execution_count": 18,
      "metadata": {
        "colab": {
          "base_uri": "https://localhost:8080/"
        },
        "id": "dmIieXwhKiA8",
        "outputId": "be8b0a9d-606f-4558-f42f-bbdd3e9460f1"
      },
      "outputs": [
        {
          "output_type": "stream",
          "name": "stdout",
          "text": [
            "水曜日は晴れです\n",
            "晴れ\n"
          ]
        }
      ],
      "source": [
        "# arrayという名前のリストを作成する\n",
        "\n",
        "array = [\n",
        "         \"月曜日は晴れです\",\n",
        "         \"火曜日は雨です\",\n",
        "         \"水曜日は晴れです\",\n",
        "         \"木曜日は晴れです\",\n",
        "         \"金曜日は曇りです\",\n",
        "         \"土曜日は曇りのち雨です\",\n",
        "         \"日曜日は雷雨です\"\n",
        "]\n",
        "\n",
        "# dictionaryという名前のディクショナリを以下の内容で作成する\n",
        "\n",
        "dictionary = {\n",
        "             \"mon\":\"晴れ\",\n",
        "             \"tue\":\"雨\",\n",
        "             \"wed\":\"晴れ\",\n",
        "             \"thu\":\"晴れ\",\n",
        "             \"fri\":\"曇り\",\n",
        "             \"sat\":\"曇りのち雨\",\n",
        "             \"sun\":\"雷雨\"\n",
        "}\n",
        "\n",
        "\n",
        "\"\"\"\n",
        " 課題の目標\n",
        " Pythonでリストとディクショナリのプログラムが書けること\n",
        " リストとディクショナリの違いを理解すること\n",
        "\n",
        " 合格基準\n",
        " リストとディクショナリを正しいデータ構造で初期化されている\n",
        " リストとディクショナリからデータを取り出して出力されている\n",
        " \"\"\"\n",
        "\n",
        "\n",
        " # リストから水曜日の天気を出力する\n",
        "print(array[2])\n",
        "\n",
        " # ディクショナリから水曜日の天気を出力する\n",
        "print(dictionary[\"wed\"])\n",
        "\n",
        "\n"
      ]
    }
  ]
}