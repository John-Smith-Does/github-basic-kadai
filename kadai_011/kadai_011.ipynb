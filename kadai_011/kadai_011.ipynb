{
  "nbformat": 4,
  "nbformat_minor": 0,
  "metadata": {
    "colab": {
      "provenance": []
    },
    "kernelspec": {
      "name": "python3",
      "display_name": "Python 3"
    },
    "language_info": {
      "name": "python"
    }
  },
  "cells": [
    {
      "cell_type": "code",
      "execution_count": 33,
      "metadata": {
        "colab": {
          "base_uri": "https://localhost:8080/"
        },
        "id": "mjfYyTvGTK7K",
        "outputId": "c9792b47-4795-4f83-e954-409dba5ffa2d"
      },
      "outputs": [
        {
          "output_type": "stream",
          "name": "stdout",
          "text": [
            "水\n",
            "金\n",
            "地\n",
            "火\n",
            "木\n",
            "土\n",
            "天\n",
            "海\n",
            "冥\n",
            "　水\n",
            "　金\n",
            "　地\n",
            "　火\n",
            "　木\n",
            "　土\n",
            "　天\n",
            "　海\n",
            "　冥\n"
          ]
        }
      ],
      "source": [
        "\"\"\"\n",
        " 課題　繰り返し処理を使いこなそう\n",
        " 課題の目標\n",
        " Pythonで繰り返し構文（for / while）のプログラムが書けるようになること。\n",
        " forとwhileの違いを理解すること。\n",
        "\n",
        " 課題の内容\n",
        " リストの中身を先頭から全て取り出して、出力結果が以下のようになるプログラムを、\n",
        " for、while、それぞれを利用して記述して下さい。\n",
        " \"\"\"\n",
        "\n",
        "# 配列に要素を追加\n",
        "\n",
        "array =  [\"水\",\n",
        "          \"金\",\n",
        "          \"地\",\n",
        "          \"火\",\n",
        "          \"木\",\n",
        "          \"土\",\n",
        "          \"天\",\n",
        "          \"海\",\n",
        "          \"冥\"\n",
        "          ]\n",
        "\n",
        "# forを使用して配列arrayの要素を1つずつ順番に出力する\n",
        "\n",
        "for arrays in array:\n",
        "  print(arrays)\n",
        "\n",
        "#　要素が9つ出力される\n",
        "\n",
        "\n",
        "# whileを使用して配列arrayの要素を1つずつ順番に出力する\n",
        "\n",
        "# arrayというリストに要素を代入する\n",
        "\n",
        "array =  [\"　水\",\n",
        "          \"　金\",\n",
        "          \"　地\",\n",
        "          \"　火\",\n",
        "          \"　木\",\n",
        "          \"　土\",\n",
        "          \"　天\",\n",
        "          \"　海\",\n",
        "          \"　冥\"\n",
        "          ]\n",
        "\n",
        "\n",
        "# カウント用の変数を用意する\n",
        "i = 0\n",
        "\n",
        "\n",
        "# 変数iの値が10以上になるまで処理を続ける\n",
        "while i < len(array):  # len(array)で配列の長さを制限\n",
        "   print(array[i])  # arrayの要素を出力する\n",
        "\n",
        "# lenとはオブジェクトの要素数（長さ）を取得するための関数\n",
        "\n",
        "   i = i + 1  # カウント変数を1増やす\n",
        "\n",
        "   \"\"\"\n",
        "    水から冥まで順番に出力される\n",
        "    \"\"\""
      ]
    }
  ]
}
