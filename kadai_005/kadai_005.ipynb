{
  "cells": [
    {
      "cell_type": "code",
      "execution_count": 37,
      "metadata": {
        "colab": {
          "base_uri": "https://localhost:8080/"
        },
        "id": "oHB4liAEqJ5c",
        "outputId": "817cbf2a-9468-42ab-c776-ae86a66db9b9"
      },
      "outputs": [
        {
          "output_type": "stream",
          "name": "stdout",
          "text": [
            "台形の面積は75.0cm²です\n"
          ]
        }
      ],
      "source": [
        "# 台形の面積の計算結果を出力するプログラムを記述する\n",
        "# 上辺=10cm、下辺=20cm、高さ=5cm\n",
        "\n",
        "# 公式：台形の面積 =（上辺＋下辺）× 高さ ÷ 2\n",
        "\n",
        "(((10+20)*5/2))\n",
        "  # 公式に数値を代入し計算する\n",
        "\n",
        "trape_zoid = (((10+20)*5/2))\n",
        "  # 台形の面積の計算結果は、プログラム内で使用するため変数\"trape_zoid\"に台形の面積を求める式を代入する\n",
        "\n",
        "print(\"台形の面積は\"+str(trape_zoid)+\"cm²です\")\n",
        "  # 数値（台形の面積の計算結果）と文字列（cm²）を結合し、出力する\n",
        "\n"
      ]
    }
  ],
  "metadata": {
    "colab": {
      "provenance": []
    },
    "kernelspec": {
      "display_name": "Python 3",
      "name": "python3"
    },
    "language_info": {
      "name": "python"
    }
  },
  "nbformat": 4,
  "nbformat_minor": 0
}