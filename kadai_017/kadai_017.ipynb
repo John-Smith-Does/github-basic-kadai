{
  "nbformat": 4,
  "nbformat_minor": 0,
  "metadata": {
    "colab": {
      "provenance": []
    },
    "kernelspec": {
      "name": "python3",
      "display_name": "Python 3"
    },
    "language_info": {
      "name": "python"
    }
  },
  "cells": [
    {
      "cell_type": "code",
      "execution_count": 23,
      "metadata": {
        "colab": {
          "base_uri": "https://localhost:8080/"
        },
        "id": "Ln89_FO6kXqu",
        "outputId": "6f3085b5-5fae-46c1-df7b-906c48b29c2c"
      },
      "outputs": [
        {
          "output_type": "stream",
          "name": "stdout",
          "text": [
            "侍太郎は大人です\n",
            "侍花子は大人です\n",
            "侍次郎は大人ではありません\n",
            "侍三郎は大人です\n",
            "侍四郎は大人ではありません\n"
          ]
        }
      ],
      "source": [
        "\"\"\"\n",
        " 課題の目標 本教材で学習したテクニックを組み合わせてコードを記述すること\n",
        "\n",
        " 課題の内容\n",
        " 名前(name)と年齢(age)の属性を持つHumanクラスを作成してください。\n",
        " Humanクラスには、以下の条件で標準出力(print)するcheck_adultメソッドを追加してください。\n",
        "\n",
        " ・ageが20以上の場合に大人であること\n",
        " ・そうでない場合に大人でないこと\n",
        "\n",
        " Humanクラスのインスタンスを複数生成してリストに追加し、\n",
        " リストの要素数分だけcheck_adultメソッドを呼び出してください。\n",
        " \"\"\"\n",
        "\n",
        "\"\"\"\n",
        " 合格条件\n",
        " 本教材で学習した「リスト・ディクショナリ」\n",
        " 「条件分岐」「繰り返し処理」「関数」「変数のスコープ」「クラス」\n",
        " を用いて、「課題の内容」の仕様通りのプログラムが記述されている\n",
        " \"\"\"\n",
        "\n",
        "class Human: # クラス名は慣習的に先頭を大文字にする\n",
        "   def __init__(self, name, age): # コンストラクタを形成\n",
        "     self.name = name # 名前属性\n",
        "     self.age = age # 年齢属性\n",
        "\n",
        "   def check_adult(self): # メソッドを定義\n",
        "        if self.age >= 20: # もしageが20以上の時\n",
        "            print(f\"{self.name}は大人です\") #　大人と出力する\n",
        "        else:               # もし20未満の時\n",
        "            print(f\"{self.name}は大人ではありません\") # 大人ではないと出力する\n",
        "\n",
        "\n",
        "# 人の名前と年齢を格納する辞書を作成\n",
        "class_members = {\n",
        "    \"侍太郎\": 20,\n",
        "    \"侍花子\": 22,\n",
        "    \"侍次郎\": 18,\n",
        "    \"侍三郎\": 21,\n",
        "    \"侍四郎\": 19,\n",
        "    }\n",
        "\n",
        "# Humanクラスのインスタンスを作成してリストに格納\n",
        "class_member = []\n",
        "\n",
        "# 辞書からインスタンスを作成し、リストに追加\n",
        "for name, age in class_members.items():\n",
        "  class_member.append(Human(name, age))\n",
        "\n",
        "# リスト内のインスタンスの要素分だけheck_adultメソッドを呼び出す\n",
        "for member in class_member:\n",
        "    member.check_adult()\n",
        "\n",
        "\n",
        "\n"
      ]
    }
  ]
}