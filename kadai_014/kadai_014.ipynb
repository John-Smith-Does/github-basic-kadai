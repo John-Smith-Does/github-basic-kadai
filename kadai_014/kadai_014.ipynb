{
 "cells": [
  {
   "cell_type": "code",
   "execution_count": null,
   "metadata": {
    "colab": {
     "base_uri": "https://localhost:8080/"
    },
    "id": "fXEUACr8dOhL",
    "outputId": "fac99983-b646-40b6-9c33-a3feb5574597"
   },
   "outputs": [
    {
     "name": "stdout",
     "output_type": "stream",
     "text": [
      "330.0\n"
     ]
    }
   ],
   "source": [
    "\"\"\"\n",
    " 課題\n",
    " 変数スコープを正しく使おう\n",
    "\n",
    " 課題の目標\n",
    " グローバルスコープとローカルスコープの違いを理解すること。\n",
    " スコープを意識したプログラムが書けるようになること。\n",
    " \"\"\"\n",
    "\n",
    "\"\"\"\n",
    " 課題の内容\n",
    " 以下のコードを実行するとスコープに関するエラーが発生します。\n",
    " エラーを修正して、正しく計算結果が出力されるようにしてください。\n",
    "\n",
    " 以下問題のコード\n",
    " グローバル変数を定義している\n",
    " price1 = 100\n",
    " price2 = 200\n",
    "\n",
    " 関数を定義している\n",
    " def total():\n",
    "    tax = 1.1  ローカル変数を定義している\n",
    "    return price1 + price2 戻り値を返している\n",
    "\n",
    " 合計金額を出力している\n",
    " print (total() * tax) エラーが発生しているのはこの部分が原因\n",
    "\n",
    " なぜならローカル変数を有効範囲外で使おうとしているから\n",
    " \"\"\"\n",
    "\n",
    "# コードを修正していく\n",
    "# グローバル変数を定義する\n",
    "tax = 1.1\n",
    "\n",
    "# 関数を定義する\n",
    "def total():\n",
    "    # ローカル変数を定義する\n",
    "    price1 = 100\n",
    "    price2 = 200\n",
    "\n",
    "    #戻り値を返す\n",
    "    return price1 + price2\n",
    "\n",
    "# 合計金額を出力する　表示については指示がないので原文のままにする\n",
    "print (total() * tax)\n",
    "\n"
   ]
  }
 ],
 "metadata": {
  "colab": {
   "provenance": []
  },
  "kernelspec": {
   "display_name": "Python 3",
   "name": "python3"
  },
  "language_info": {
   "name": "python"
  }
 },
 "nbformat": 4,
 "nbformat_minor": 0
}
