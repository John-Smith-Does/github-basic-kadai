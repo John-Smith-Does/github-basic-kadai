{
  "nbformat": 4,
  "nbformat_minor": 0,
  "metadata": {
    "colab": {
      "provenance": []
    },
    "kernelspec": {
      "name": "python3",
      "display_name": "Python 3"
    },
    "language_info": {
      "name": "python"
    }
  },
  "cells": [
    {
      "cell_type": "code",
      "execution_count": 32,
      "metadata": {
        "colab": {
          "base_uri": "https://localhost:8080/"
        },
        "id": "oHB4liAEqJ5c",
        "outputId": "43f95386-2ac6-447f-9541-bcab304cd644"
      },
      "outputs": [
        {
          "output_type": "stream",
          "name": "stdout",
          "text": [
            "台形の面積は75cm²です\n"
          ]
        }
      ],
      "source": [
        "# 台形の面積の計算結果を出力するプログラムを記述する\n",
        "# 上辺=10cm、下辺=20cm、高さ=5cm\n",
        "\n",
        "# 公式：台形の面積 =（上辺＋下辺）× 高さ ÷ 2\n",
        "\n",
        "(((10+20)*5/2))\n",
        "  # 公式に数値を代入し計算する\n",
        "\n",
        "trape_zoid = 75\n",
        "  # 台形の面積の計算結果は、プログラム内で使用するため変数\"trape_zoid\"に代入する\n",
        "\n",
        "print(\"台形の面積は\"+str(trape_zoid)+\"cm²です\")\n",
        "  # 数値（台形の面積の計算結果）と文字列（cm²）を結合し、出力する\n",
        "\n"
      ]
    }
  ]
}