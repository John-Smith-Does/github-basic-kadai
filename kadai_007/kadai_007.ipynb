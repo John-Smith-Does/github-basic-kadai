{
  "nbformat": 4,
  "nbformat_minor": 0,
  "metadata": {
    "colab": {
      "provenance": []
    },
    "kernelspec": {
      "name": "python3",
      "display_name": "Python 3"
    },
    "language_info": {
      "name": "python"
    }
  },
  "cells": [
    {
      "cell_type": "code",
      "execution_count": 11,
      "metadata": {
        "colab": {
          "base_uri": "https://localhost:8080/"
        },
        "id": "dmIieXwhKiA8",
        "outputId": "5feb23f0-abb6-441b-ef06-e494fcab4481"
      },
      "outputs": [
        {
          "output_type": "stream",
          "name": "stdout",
          "text": [
            "['月曜日は晴れです', '火曜日は雨です', '水曜日は晴れです', '木曜日は晴れです', '金曜日は曇りです', '土曜日は曇りのち雨です', '日曜日は雷雨です']\n",
            "{'mon': '晴れ', 'tue': '雨', 'wed': '晴れ', 'thu': '晴れ', 'fri': '曇り', 'sat': '曇りのち雨', 'sun': '雷雨'}\n"
          ]
        }
      ],
      "source": [
        "# arrayという名前のリストを作成する\n",
        "\n",
        "array = [\n",
        "         \"月曜日は晴れです\",\n",
        "         \"火曜日は雨です\",\n",
        "         \"水曜日は晴れです\",\n",
        "         \"木曜日は晴れです\",\n",
        "         \"金曜日は曇りです\",\n",
        "         \"土曜日は曇りのち雨です\",\n",
        "         \"日曜日は雷雨です\"\n",
        "]\n",
        "\n",
        "# dictionaryという名前のディクショナリを以下の内容で作成する\n",
        "\n",
        "dictionary = {\n",
        "             \"mon\":\"晴れ\",\n",
        "             \"tue\":\"雨\",\n",
        "             \"wed\":\"晴れ\",\n",
        "             \"thu\":\"晴れ\",\n",
        "             \"fri\":\"曇り\",\n",
        "             \"sat\":\"曇りのち雨\",\n",
        "             \"sun\":\"雷雨\"\n",
        "}\n",
        "\n",
        "\n",
        "\"\"\"\n",
        " 課題の目標\n",
        " Pythonでリストとディクショナリのプログラムが書けること\n",
        " リストとディクショナリの違いを理解すること\n",
        "\n",
        " 合格基準\n",
        " リストとディクショナリを正しいデータ構造で初期化されている\n",
        " リストとディクショナリからデータを取り出して出力されている\n",
        " \"\"\"\n",
        "\n",
        "\n",
        " # リストからデータを取り出して出力する\n",
        "print(array)\n",
        "\n",
        " # ディクショナリからデータを取り出して出力する\n",
        "print(dictionary)\n",
        "\n",
        "\n"
      ]
    }
  ]
}